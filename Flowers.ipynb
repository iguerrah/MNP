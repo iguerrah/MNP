{
  "nbformat": 4,
  "nbformat_minor": 0,
  "metadata": {
    "colab": {
      "provenance": []
    },
    "kernelspec": {
      "name": "python3",
      "display_name": "Python 3"
    },
    "language_info": {
      "name": "python"
    }
  },
  "cells": [
    {
      "cell_type": "code",
      "execution_count": 1,
      "metadata": {
        "id": "Mf6nnjU24W5L"
      },
      "outputs": [],
      "source": [
        "import pandas as pd\n",
        "import numpy as np\n",
        "import matplotlib.pyplot as plt\n",
        "import seaborn as sns\n",
        "# import imageio as io\n",
        "import imageio.v2 as imageio\n",
        "import os\n",
        "from sklearn.decomposition import PCA\n",
        "import skimage\n",
        "from skimage import color\n",
        "from skimage import io"
      ]
    },
    {
      "cell_type": "code",
      "source": [
        "from google.colab import drive\n",
        "drive.mount('/content/drive')"
      ],
      "metadata": {
        "colab": {
          "base_uri": "https://localhost:8080/"
        },
        "id": "_0sNUYcnGT3-",
        "outputId": "8edb88c3-8c89-482c-daf5-8e43f24a1ba2"
      },
      "execution_count": 2,
      "outputs": [
        {
          "output_type": "stream",
          "name": "stdout",
          "text": [
            "Mounted at /content/drive\n"
          ]
        }
      ]
    },
    {
      "cell_type": "code",
      "source": [
        "#ubicacion de las carpetas con cada tipo de flor\n",
        "path = \"/content/drive/MyDrive/Datas/data_flower/\"\n",
        "\n",
        "path_amarilla = \"f_amarilla/\"\n",
        "path_blanca = \"f_blanca/\"\n",
        "path_morada = \"f_morada/\"\n",
        "path_rosa = \"f_rosa/\"\n",
        "\n",
        "imgs_amarilla = os.listdir(path + path_amarilla)  # 41\n",
        "imgs_blanca = os.listdir(path + path_blanca)  # 57\n",
        "imgs_morada = os.listdir(path + path_morada)  # 39\n",
        "imgs_rosa = os.listdir(path + path_rosa)  # 39\n",
        "\n",
        "imgtest = imageio.imread(path + 'f_' + 'amarilla' + '/' + imgs_amarilla[0])\n"
      ],
      "metadata": {
        "id": "ZhKYegF7FPkb"
      },
      "execution_count": 3,
      "outputs": []
    },
    {
      "cell_type": "code",
      "source": [
        "#Lectura de imagenes, redimensionamiento de matriz a vector y concatenacion\n",
        "def lst_vector_color(archivos_color, nombre_color, id_color):\n",
        "    path_color = 'f_' + nombre_color + '/'\n",
        "    num_flat = 128 * 128 * 4\n",
        "    lst_vectores = []\n",
        "    lst_class = []\n",
        "    for i in range(0, len(archivos_color)):\n",
        "        img = imageio.imread(path + path_color + archivos_color[i])\n",
        "        # img = io.imread(path + path_color + archivos_color[i] , as_gray=True)\n",
        "        img_rshp = img.reshape(1, num_flat)[0]\n",
        "        lst_vectores.append(img_rshp)\n",
        "        array_vectores = np.array(lst_vectores)\n",
        "        lst_class.append(id_color)\n",
        "    return array_vectores, lst_class"
      ],
      "metadata": {
        "id": "ihF5C3IYFpD5"
      },
      "execution_count": 4,
      "outputs": []
    },
    {
      "cell_type": "code",
      "source": [
        "array_vect_amarilla, id_amarilla = lst_vector_color(imgs_amarilla, 'amarilla', 0)\n",
        "array_vect_blanca, id_blanca = lst_vector_color(imgs_blanca, 'blanca', 1)\n",
        "array_vect_morada, id_morada = lst_vector_color(imgs_morada, 'morada', 2)\n",
        "array_vect_rosa, id_rosa = lst_vector_color(imgs_rosa, 'rosa', 3)"
      ],
      "metadata": {
        "id": "luod778eF1PW"
      },
      "execution_count": 5,
      "outputs": []
    },
    {
      "cell_type": "code",
      "source": [
        "# Ordenamos  la matriz de caracteristicas\n",
        "x = np.concatenate((array_vect_amarilla, array_vect_blanca, array_vect_morada, array_vect_rosa),\n",
        "                   axis=0)  # (160, 65536) n>p no se cumple, se tiene que reducir\n",
        "y = np.array(id_amarilla + id_blanca + id_morada + id_rosa).reshape(160, 1)\n",
        "xy = np.concatenate((x, y), axis=1)\n",
        "x_std = (x - x.mean()) / (x.std())\n",
        "n1, p1 = list(x_std.shape)[0], list(x_std.shape)[1]\n",
        "\n",
        "test1 = pd.DataFrame(xy).add_prefix('pixel_').rename(columns={'pixel_65536': 'Clase'})"
      ],
      "metadata": {
        "id": "pxhYlbelGAUb"
      },
      "execution_count": 6,
      "outputs": []
    },
    {
      "cell_type": "code",
      "source": [
        "# the n_components of PCA must be lower than min(n_samples, n_features).\n",
        "pca = PCA(n_components=60)\n",
        "pca.fit(x_std)\n",
        "X_proj = pca.fit_transform(x_std)\n",
        "loading = pd.DataFrame(pca.components_.T).round(2)\n",
        "componentes = pca.components_ #eigenvector (60, 65536)\n",
        "componentes = pd.DataFrame(data= componentes,columns = list(test1.columns)[:-1]).round(2)\n",
        "print(pca.explained_variance_ratio_)\n",
        "print(np.cumsum(pca.explained_variance_ratio_))\n",
        "eigen_valores = pd.DataFrame(pca.explained_variance_).round(2)\n",
        "ratio_var_exp = pd.DataFrame(pca.explained_variance_ratio_)\n",
        "cum_var_exp = pd.DataFrame( np.cumsum(pca.explained_variance_ratio_))\n",
        "var_cum_normal = pd.concat([ratio_var_exp,cum_var_exp], axis = 1)\n",
        "\n",
        "\n"
      ],
      "metadata": {
        "colab": {
          "base_uri": "https://localhost:8080/"
        },
        "id": "KpkYJY6FGEvk",
        "outputId": "1e8b6027-4451-49f5-dad8-74d91e2073ec"
      },
      "execution_count": 7,
      "outputs": [
        {
          "output_type": "stream",
          "name": "stdout",
          "text": [
            "[0.15830808 0.07886639 0.04398274 0.03900211 0.03077903 0.02714626\n",
            " 0.02279404 0.0214917  0.01968181 0.01881374 0.01504145 0.01394624\n",
            " 0.01271494 0.01252147 0.01195665 0.01144749 0.01097819 0.01044168\n",
            " 0.00953666 0.00912447 0.00902014 0.0088513  0.00857502 0.00850325\n",
            " 0.00819504 0.00770671 0.00760477 0.00721075 0.00686606 0.00675525\n",
            " 0.00667239 0.00634321 0.00621344 0.00612794 0.00588579 0.0057656\n",
            " 0.00554252 0.00534307 0.00525139 0.00518406 0.0050806  0.00495018\n",
            " 0.00484519 0.00472457 0.00454987 0.00448229 0.00445368 0.00437504\n",
            " 0.00430333 0.0042514  0.00420412 0.00413589 0.00395    0.00389467\n",
            " 0.00387585 0.00377235 0.0037466  0.00364059 0.00356712 0.00348872]\n",
            "[0.15830808 0.23717446 0.2811572  0.32015931 0.35093835 0.37808461\n",
            " 0.40087865 0.42237035 0.44205216 0.4608659  0.47590736 0.48985359\n",
            " 0.50256853 0.51509    0.52704664 0.53849413 0.54947232 0.559914\n",
            " 0.56945066 0.57857512 0.58759526 0.59644656 0.60502158 0.61352483\n",
            " 0.62171987 0.62942658 0.63703135 0.6442421  0.65110816 0.65786341\n",
            " 0.66453581 0.67087901 0.67709246 0.6832204  0.68910619 0.69487178\n",
            " 0.7004143  0.70575738 0.71100877 0.71619283 0.72127343 0.72622361\n",
            " 0.7310688  0.73579337 0.74034324 0.74482553 0.7492792  0.75365424\n",
            " 0.75795757 0.76220897 0.7664131  0.77054899 0.77449899 0.77839367\n",
            " 0.78226952 0.78604187 0.78978846 0.79342905 0.79699617 0.80048489]\n"
          ]
        }
      ]
    },
    {
      "cell_type": "code",
      "source": [
        "#se calcula la inversa del pca\n",
        "X_inv_proj = pca.inverse_transform(X_proj)\n",
        "#se redimensiona\n",
        "X_proj_img = np.reshape(X_inv_proj, (160, 128, 128, 4))\n",
        "#SE elige una imagen\n",
        "img1_recov = X_proj_img[121]\n",
        "#Se des-estandariza\n",
        "x_1 = (img1_recov * x.std()) + x.mean()"
      ],
      "metadata": {
        "id": "S-rdrgenG_6r"
      },
      "execution_count": 8,
      "outputs": []
    },
    {
      "cell_type": "code",
      "source": [
        "# desriptivos\n",
        "x_pd_grp = pd.DataFrame(xy).groupby(128 * 128 * 4).max()\n",
        "x_pd_grp.round(2)"
      ],
      "metadata": {
        "colab": {
          "base_uri": "https://localhost:8080/",
          "height": 235
        },
        "id": "pw-TQwN1HIg1",
        "outputId": "69749492-dea0-4b21-e0bc-4c5c9a586c7d"
      },
      "execution_count": 9,
      "outputs": [
        {
          "output_type": "execute_result",
          "data": {
            "text/plain": [
              "       0      1      2      3      4      5      6      7      8      9      \\\n",
              "65536                                                                         \n",
              "0        183    189    208    255    229    190    209    255    195    193   \n",
              "1        237    240    235    255    150    190    139    255    151    192   \n",
              "2        193    209    213    255    196    205    213    255    204    209   \n",
              "3        253    209    227    255    253    209    214    255    253    209   \n",
              "\n",
              "       ...  65526  65527  65528  65529  65530  65531  65532  65533  65534  \\\n",
              "65536  ...                                                                  \n",
              "0      ...    255    255    255    255    255    255    255    255    255   \n",
              "1      ...    104    255    113    106     91    255    217    217    217   \n",
              "2      ...    179    255    199    231    186    255    203    229    188   \n",
              "3      ...    210    255    248    211    211    255    229    217    213   \n",
              "\n",
              "       65535  \n",
              "65536         \n",
              "0        255  \n",
              "1        255  \n",
              "2        255  \n",
              "3        255  \n",
              "\n",
              "[4 rows x 65536 columns]"
            ],
            "text/html": [
              "\n",
              "  <div id=\"df-16dba174-f01f-416f-98b8-07f25b6cf331\">\n",
              "    <div class=\"colab-df-container\">\n",
              "      <div>\n",
              "<style scoped>\n",
              "    .dataframe tbody tr th:only-of-type {\n",
              "        vertical-align: middle;\n",
              "    }\n",
              "\n",
              "    .dataframe tbody tr th {\n",
              "        vertical-align: top;\n",
              "    }\n",
              "\n",
              "    .dataframe thead th {\n",
              "        text-align: right;\n",
              "    }\n",
              "</style>\n",
              "<table border=\"1\" class=\"dataframe\">\n",
              "  <thead>\n",
              "    <tr style=\"text-align: right;\">\n",
              "      <th></th>\n",
              "      <th>0</th>\n",
              "      <th>1</th>\n",
              "      <th>2</th>\n",
              "      <th>3</th>\n",
              "      <th>4</th>\n",
              "      <th>5</th>\n",
              "      <th>6</th>\n",
              "      <th>7</th>\n",
              "      <th>8</th>\n",
              "      <th>9</th>\n",
              "      <th>...</th>\n",
              "      <th>65526</th>\n",
              "      <th>65527</th>\n",
              "      <th>65528</th>\n",
              "      <th>65529</th>\n",
              "      <th>65530</th>\n",
              "      <th>65531</th>\n",
              "      <th>65532</th>\n",
              "      <th>65533</th>\n",
              "      <th>65534</th>\n",
              "      <th>65535</th>\n",
              "    </tr>\n",
              "    <tr>\n",
              "      <th>65536</th>\n",
              "      <th></th>\n",
              "      <th></th>\n",
              "      <th></th>\n",
              "      <th></th>\n",
              "      <th></th>\n",
              "      <th></th>\n",
              "      <th></th>\n",
              "      <th></th>\n",
              "      <th></th>\n",
              "      <th></th>\n",
              "      <th></th>\n",
              "      <th></th>\n",
              "      <th></th>\n",
              "      <th></th>\n",
              "      <th></th>\n",
              "      <th></th>\n",
              "      <th></th>\n",
              "      <th></th>\n",
              "      <th></th>\n",
              "      <th></th>\n",
              "      <th></th>\n",
              "    </tr>\n",
              "  </thead>\n",
              "  <tbody>\n",
              "    <tr>\n",
              "      <th>0</th>\n",
              "      <td>183</td>\n",
              "      <td>189</td>\n",
              "      <td>208</td>\n",
              "      <td>255</td>\n",
              "      <td>229</td>\n",
              "      <td>190</td>\n",
              "      <td>209</td>\n",
              "      <td>255</td>\n",
              "      <td>195</td>\n",
              "      <td>193</td>\n",
              "      <td>...</td>\n",
              "      <td>255</td>\n",
              "      <td>255</td>\n",
              "      <td>255</td>\n",
              "      <td>255</td>\n",
              "      <td>255</td>\n",
              "      <td>255</td>\n",
              "      <td>255</td>\n",
              "      <td>255</td>\n",
              "      <td>255</td>\n",
              "      <td>255</td>\n",
              "    </tr>\n",
              "    <tr>\n",
              "      <th>1</th>\n",
              "      <td>237</td>\n",
              "      <td>240</td>\n",
              "      <td>235</td>\n",
              "      <td>255</td>\n",
              "      <td>150</td>\n",
              "      <td>190</td>\n",
              "      <td>139</td>\n",
              "      <td>255</td>\n",
              "      <td>151</td>\n",
              "      <td>192</td>\n",
              "      <td>...</td>\n",
              "      <td>104</td>\n",
              "      <td>255</td>\n",
              "      <td>113</td>\n",
              "      <td>106</td>\n",
              "      <td>91</td>\n",
              "      <td>255</td>\n",
              "      <td>217</td>\n",
              "      <td>217</td>\n",
              "      <td>217</td>\n",
              "      <td>255</td>\n",
              "    </tr>\n",
              "    <tr>\n",
              "      <th>2</th>\n",
              "      <td>193</td>\n",
              "      <td>209</td>\n",
              "      <td>213</td>\n",
              "      <td>255</td>\n",
              "      <td>196</td>\n",
              "      <td>205</td>\n",
              "      <td>213</td>\n",
              "      <td>255</td>\n",
              "      <td>204</td>\n",
              "      <td>209</td>\n",
              "      <td>...</td>\n",
              "      <td>179</td>\n",
              "      <td>255</td>\n",
              "      <td>199</td>\n",
              "      <td>231</td>\n",
              "      <td>186</td>\n",
              "      <td>255</td>\n",
              "      <td>203</td>\n",
              "      <td>229</td>\n",
              "      <td>188</td>\n",
              "      <td>255</td>\n",
              "    </tr>\n",
              "    <tr>\n",
              "      <th>3</th>\n",
              "      <td>253</td>\n",
              "      <td>209</td>\n",
              "      <td>227</td>\n",
              "      <td>255</td>\n",
              "      <td>253</td>\n",
              "      <td>209</td>\n",
              "      <td>214</td>\n",
              "      <td>255</td>\n",
              "      <td>253</td>\n",
              "      <td>209</td>\n",
              "      <td>...</td>\n",
              "      <td>210</td>\n",
              "      <td>255</td>\n",
              "      <td>248</td>\n",
              "      <td>211</td>\n",
              "      <td>211</td>\n",
              "      <td>255</td>\n",
              "      <td>229</td>\n",
              "      <td>217</td>\n",
              "      <td>213</td>\n",
              "      <td>255</td>\n",
              "    </tr>\n",
              "  </tbody>\n",
              "</table>\n",
              "<p>4 rows × 65536 columns</p>\n",
              "</div>\n",
              "      <button class=\"colab-df-convert\" onclick=\"convertToInteractive('df-16dba174-f01f-416f-98b8-07f25b6cf331')\"\n",
              "              title=\"Convert this dataframe to an interactive table.\"\n",
              "              style=\"display:none;\">\n",
              "        \n",
              "  <svg xmlns=\"http://www.w3.org/2000/svg\" height=\"24px\"viewBox=\"0 0 24 24\"\n",
              "       width=\"24px\">\n",
              "    <path d=\"M0 0h24v24H0V0z\" fill=\"none\"/>\n",
              "    <path d=\"M18.56 5.44l.94 2.06.94-2.06 2.06-.94-2.06-.94-.94-2.06-.94 2.06-2.06.94zm-11 1L8.5 8.5l.94-2.06 2.06-.94-2.06-.94L8.5 2.5l-.94 2.06-2.06.94zm10 10l.94 2.06.94-2.06 2.06-.94-2.06-.94-.94-2.06-.94 2.06-2.06.94z\"/><path d=\"M17.41 7.96l-1.37-1.37c-.4-.4-.92-.59-1.43-.59-.52 0-1.04.2-1.43.59L10.3 9.45l-7.72 7.72c-.78.78-.78 2.05 0 2.83L4 21.41c.39.39.9.59 1.41.59.51 0 1.02-.2 1.41-.59l7.78-7.78 2.81-2.81c.8-.78.8-2.07 0-2.86zM5.41 20L4 18.59l7.72-7.72 1.47 1.35L5.41 20z\"/>\n",
              "  </svg>\n",
              "      </button>\n",
              "      \n",
              "  <style>\n",
              "    .colab-df-container {\n",
              "      display:flex;\n",
              "      flex-wrap:wrap;\n",
              "      gap: 12px;\n",
              "    }\n",
              "\n",
              "    .colab-df-convert {\n",
              "      background-color: #E8F0FE;\n",
              "      border: none;\n",
              "      border-radius: 50%;\n",
              "      cursor: pointer;\n",
              "      display: none;\n",
              "      fill: #1967D2;\n",
              "      height: 32px;\n",
              "      padding: 0 0 0 0;\n",
              "      width: 32px;\n",
              "    }\n",
              "\n",
              "    .colab-df-convert:hover {\n",
              "      background-color: #E2EBFA;\n",
              "      box-shadow: 0px 1px 2px rgba(60, 64, 67, 0.3), 0px 1px 3px 1px rgba(60, 64, 67, 0.15);\n",
              "      fill: #174EA6;\n",
              "    }\n",
              "\n",
              "    [theme=dark] .colab-df-convert {\n",
              "      background-color: #3B4455;\n",
              "      fill: #D2E3FC;\n",
              "    }\n",
              "\n",
              "    [theme=dark] .colab-df-convert:hover {\n",
              "      background-color: #434B5C;\n",
              "      box-shadow: 0px 1px 3px 1px rgba(0, 0, 0, 0.15);\n",
              "      filter: drop-shadow(0px 1px 2px rgba(0, 0, 0, 0.3));\n",
              "      fill: #FFFFFF;\n",
              "    }\n",
              "  </style>\n",
              "\n",
              "      <script>\n",
              "        const buttonEl =\n",
              "          document.querySelector('#df-16dba174-f01f-416f-98b8-07f25b6cf331 button.colab-df-convert');\n",
              "        buttonEl.style.display =\n",
              "          google.colab.kernel.accessAllowed ? 'block' : 'none';\n",
              "\n",
              "        async function convertToInteractive(key) {\n",
              "          const element = document.querySelector('#df-16dba174-f01f-416f-98b8-07f25b6cf331');\n",
              "          const dataTable =\n",
              "            await google.colab.kernel.invokeFunction('convertToInteractive',\n",
              "                                                     [key], {});\n",
              "          if (!dataTable) return;\n",
              "\n",
              "          const docLinkHtml = 'Like what you see? Visit the ' +\n",
              "            '<a target=\"_blank\" href=https://colab.research.google.com/notebooks/data_table.ipynb>data table notebook</a>'\n",
              "            + ' to learn more about interactive tables.';\n",
              "          element.innerHTML = '';\n",
              "          dataTable['output_type'] = 'display_data';\n",
              "          await google.colab.output.renderOutput(dataTable, element);\n",
              "          const docLink = document.createElement('div');\n",
              "          docLink.innerHTML = docLinkHtml;\n",
              "          element.appendChild(docLink);\n",
              "        }\n",
              "      </script>\n",
              "    </div>\n",
              "  </div>\n",
              "  "
            ]
          },
          "metadata": {},
          "execution_count": 9
        }
      ]
    },
    {
      "cell_type": "code",
      "source": [
        "X_proj.shape"
      ],
      "metadata": {
        "colab": {
          "base_uri": "https://localhost:8080/"
        },
        "id": "gZLHFYj6JHEz",
        "outputId": "5d660a27-51da-435d-b946-dcdd974c8820"
      },
      "execution_count": 11,
      "outputs": [
        {
          "output_type": "execute_result",
          "data": {
            "text/plain": [
              "(160, 60)"
            ]
          },
          "metadata": {},
          "execution_count": 11
        }
      ]
    },
    {
      "cell_type": "code",
      "source": [
        "#y son las labels de las flores\n",
        "\n",
        "from sklearn.model_selection import train_test_split\n",
        "\n",
        "X_train, X_test, y_train, y_test = train_test_split(X_proj, y, test_size=0.2, random_state=42)\n",
        "\n",
        "\n",
        "from sklearn.neighbors import NearestNeighbors\n",
        "knn = KNeighborsClassifier()\n",
        "knn.fit(X_train, y_train)\n",
        "\n",
        "print(\"Predictions from the classifier:\")\n",
        "test_data_predicted = knn.predict(X_test)\n",
        "print(test_data_predicted)\n",
        "print(\"Target values:\")\n",
        "print(test_labels)"
      ],
      "metadata": {
        "colab": {
          "base_uri": "https://localhost:8080/",
          "height": 235
        },
        "id": "leL0mOAMKqj-",
        "outputId": "80c33fe6-33f3-4b58-9c43-d9f4b1c41342"
      },
      "execution_count": 13,
      "outputs": [
        {
          "output_type": "error",
          "ename": "NameError",
          "evalue": "ignored",
          "traceback": [
            "\u001b[0;31m---------------------------------------------------------------------------\u001b[0m",
            "\u001b[0;31mNameError\u001b[0m                                 Traceback (most recent call last)",
            "\u001b[0;32m<ipython-input-13-8098ffaa7d2f>\u001b[0m in \u001b[0;36m<cell line: 9>\u001b[0;34m()\u001b[0m\n\u001b[1;32m      7\u001b[0m \u001b[0;34m\u001b[0m\u001b[0m\n\u001b[1;32m      8\u001b[0m \u001b[0;32mfrom\u001b[0m \u001b[0msklearn\u001b[0m\u001b[0;34m.\u001b[0m\u001b[0mneighbors\u001b[0m \u001b[0;32mimport\u001b[0m \u001b[0mNearestNeighbors\u001b[0m\u001b[0;34m\u001b[0m\u001b[0;34m\u001b[0m\u001b[0m\n\u001b[0;32m----> 9\u001b[0;31m \u001b[0mknn\u001b[0m \u001b[0;34m=\u001b[0m \u001b[0mKNeighborsClassifier\u001b[0m\u001b[0;34m(\u001b[0m\u001b[0;34m)\u001b[0m\u001b[0;34m\u001b[0m\u001b[0;34m\u001b[0m\u001b[0m\n\u001b[0m\u001b[1;32m     10\u001b[0m \u001b[0mknn\u001b[0m\u001b[0;34m.\u001b[0m\u001b[0mfit\u001b[0m\u001b[0;34m(\u001b[0m\u001b[0mX_train\u001b[0m\u001b[0;34m,\u001b[0m \u001b[0my_train\u001b[0m\u001b[0;34m)\u001b[0m\u001b[0;34m\u001b[0m\u001b[0;34m\u001b[0m\u001b[0m\n\u001b[1;32m     11\u001b[0m \u001b[0;34m\u001b[0m\u001b[0m\n",
            "\u001b[0;31mNameError\u001b[0m: name 'KNeighborsClassifier' is not defined"
          ]
        }
      ]
    }
  ]
}